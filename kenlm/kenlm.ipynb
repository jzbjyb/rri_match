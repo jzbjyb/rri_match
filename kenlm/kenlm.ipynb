{
 "cells": [
  {
   "cell_type": "code",
   "execution_count": 1,
   "metadata": {},
   "outputs": [],
   "source": [
    "import kenlm\n",
    "import multiprocessing, os, sys\n",
    "import numpy as np\n",
    "import subprocess\n",
    "import matplotlib.pyplot as plt\n",
    "sys.path.append('../')\n",
    "%load_ext autoreload\n",
    "%autoreload 2"
   ]
  },
  {
   "cell_type": "markdown",
   "metadata": {},
   "source": [
    "## use kenlm to generate scores"
   ]
  },
  {
   "cell_type": "code",
   "execution_count": 7,
   "metadata": {},
   "outputs": [],
   "source": [
    "class KenlmWrapper(object):\n",
    "    def __init__(self, model):\n",
    "        self.model = model\n",
    "        self.clear()\n",
    "    \n",
    "    def clear(self):\n",
    "        self.score_accum = 0\n",
    "        self.last_state = kenlm.State()\n",
    "        self.new_state = kenlm.State()\n",
    "        return self\n",
    "    \n",
    "    def init(self):\n",
    "        self.clear()\n",
    "        self.model.BeginSentenceWrite(self.last_state)\n",
    "        return self\n",
    "    \n",
    "    def next_score(self, word):\n",
    "        s = self.model.BaseScore(self.last_state, word, self.new_state)\n",
    "        self.score_accum += s\n",
    "        tmp = self.last_state\n",
    "        self.last_state = self.new_state\n",
    "        self.new_state = tmp\n",
    "        return s"
   ]
  },
  {
   "cell_type": "code",
   "execution_count": 8,
   "metadata": {},
   "outputs": [],
   "source": [
    "def _lm_examine(args):\n",
    "    filepath, out_filepath, model, ind, start, end = args\n",
    "    kenlm_wrapper = KenlmWrapper(model)\n",
    "    out_filepath = '{}.{}'.format(out_filepath, ind)\n",
    "    with open(filepath, 'r') as fin, open(out_filepath, 'w') as fout:\n",
    "        for i, l in enumerate(fin):\n",
    "            if i < start:\n",
    "                continue\n",
    "            if i >= end:\n",
    "                break\n",
    "            words = l.strip().split()\n",
    "            if len(words) == 0:\n",
    "                continue\n",
    "            kenlm_wrapper.init().next_score(words[0]) # initialize the sentence\n",
    "            for word in words[1:]:\n",
    "                score = kenlm_wrapper.next_score(word) # calculate score\n",
    "                fout.write('{:.5f}\\n'.format(score))\n",
    "def lm_examine(filepath, out_filepath, model_path, num_thread=4):\n",
    "    model = kenlm.LanguageModel(model_path)\n",
    "    num_lines = sum(1 for l in open(filepath, 'r'))\n",
    "    print('num lines {}'.format(num_lines))\n",
    "    batch_size = int(np.ceil(num_lines / num_thread))\n",
    "    with multiprocessing.Pool(num_thread) as p:\n",
    "        print(p.map(_lm_examine, [(filepath, out_filepath, model, i, i*batch_size, i*batch_size+batch_size) \n",
    "                                  for i in range(num_thread)]))"
   ]
  },
  {
   "cell_type": "code",
   "execution_count": 47,
   "metadata": {},
   "outputs": [
    {
     "name": "stdout",
     "output_type": "stream",
     "text": [
      "num lines 306068\n",
      "[None, None, None, None]\n"
     ]
    },
    {
     "data": {
      "text/plain": [
       "CompletedProcess(args='cat 1b_lm_examine.{0..3} > 1b_lm_examine', returncode=0)"
      ]
     },
     "execution_count": 47,
     "metadata": {},
     "output_type": "execute_result"
    }
   ],
   "source": [
    "lm_examine(os.path.join('/usr0/home/zhengbaj/data/',\n",
    "                        'lm/1-billion-word-language-modeling-benchmark-r13output',\n",
    "                        'training-monolingual.tokenized.shuffled',\n",
    "                        'news.en-00001-of-00100'),\n",
    "           '1b_lm_examine', '1b.binary', num_thread=4)\n",
    "subprocess.run(\"cat 1b_lm_examine.{0..3} > 1b_lm_examine\", shell=True, executable='/bin/bash', check=True)"
   ]
  },
  {
   "cell_type": "markdown",
   "metadata": {},
   "source": [
    "## kenlm test"
   ]
  },
  {
   "cell_type": "code",
   "execution_count": 36,
   "metadata": {},
   "outputs": [
    {
     "name": "stdout",
     "output_type": "stream",
     "text": [
      "-5.992492198944092\n",
      "-1.5513503551483154\n",
      "-0.9852211475372314\n",
      "-2.0829129219055176\n",
      "-0.31264644861221313\n",
      "-4.039732933044434\n"
     ]
    }
   ],
   "source": [
    "def kenlm_test():\n",
    "    model = kenlm.LanguageModel('1b.binary')\n",
    "    kenlm_wrapper = KenlmWrapper(model)\n",
    "    kenlm_wrapper.init()\n",
    "    print(kenlm_wrapper.next_score('i'))\n",
    "    print(kenlm_wrapper.next_score('have'))\n",
    "    print(kenlm_wrapper.next_score('a'))\n",
    "    print(kenlm_wrapper.next_score('lot'))\n",
    "    print(kenlm_wrapper.next_score('of'))\n",
    "    print(kenlm_wrapper.next_score('voices'))\n",
    "kenlm_test()"
   ]
  },
  {
   "cell_type": "code",
   "execution_count": null,
   "metadata": {},
   "outputs": [],
   "source": [
    "9.384115219116211"
   ]
  },
  {
   "cell_type": "markdown",
   "metadata": {},
   "source": [
    "## visualize the histogram of scores"
   ]
  },
  {
   "cell_type": "code",
   "execution_count": 62,
   "metadata": {},
   "outputs": [],
   "source": [
    "def hist_score(filepath, num_bins=100, cut_percentile=10):\n",
    "    scores = np.array(list(map(lambda x: float(x), open(filepath, 'r').read().split())))\n",
    "    n, bins, patches = plt.hist(scores, num_bins, facecolor='blue', cumulative=True, normed=True)\n",
    "    plt.show()\n",
    "    cut_value = cut_percentile / 100\n",
    "    for i in range(len(n)):\n",
    "        if n[i] >= cut_value:\n",
    "            return bins[i+1]"
   ]
  },
  {
   "cell_type": "code",
   "execution_count": 63,
   "metadata": {},
   "outputs": [
    {
     "name": "stderr",
     "output_type": "stream",
     "text": [
      "/usr1/home/zhengbaj/exp/env_python3.5/lib/python3.5/site-packages/matplotlib/axes/_axes.py:6499: MatplotlibDeprecationWarning: \n",
      "The 'normed' kwarg was deprecated in Matplotlib 2.1 and will be removed in 3.1. Use 'density' instead.\n",
      "  alternative=\"'density'\", removal=\"3.1\")\n"
     ]
    },
    {
     "data": {
      "image/png": "[encoded data removed]",
      "text/plain": [
       "<Figure size 432x288 with 1 Axes>"
      ]
     },
     "metadata": {
      "needs_background": "light"
     },
     "output_type": "display_data"
    },
    {
     "data": {
      "text/plain": [
       "-2.5663104"
      ]
     },
     "execution_count": 63,
     "metadata": {},
     "output_type": "execute_result"
    }
   ],
   "source": [
    "hist_score('1b_lm_examine', num_bins=500, cut_percentile=5)"
   ]
  },
  {
   "cell_type": "markdown",
   "metadata": {},
   "source": [
    "## split document using kenlm and the threshold"
   ]
  },
  {
   "cell_type": "code",
   "execution_count": 24,
   "metadata": {},
   "outputs": [],
   "source": [
    "from utils import load_prep_file, load_prep_file_aslist, save_prep_file, Vocab"
   ]
  },
  {
   "cell_type": "code",
   "execution_count": 15,
   "metadata": {},
   "outputs": [],
   "source": [
    "data_dir = '../data/bing'\n",
    "doc_filepath = os.path.join(data_dir, 'docs.prep')\n",
    "vocab_filepath = os.path.join(data_dir, 'vocab')\n",
    "file_format = 'ir'"
   ]
  },
  {
   "cell_type": "code",
   "execution_count": 32,
   "metadata": {},
   "outputs": [],
   "source": [
    "def split_document(model_path, doc_filepath, vocab_filepath, file_format, out_filepath, thres):\n",
    "    model = kenlm.LanguageModel(model_path)\n",
    "    kenlm_wrapper = KenlmWrapper(model)\n",
    "    docs = load_prep_file_aslist(doc_filepath, file_format=file_format, use_split=True)\n",
    "    #docs = load_prep_file(doc_filepath, file_format=file_format)\n",
    "    docs_seg = []\n",
    "    docs_seg_debug = []\n",
    "    vocab = Vocab(filepath=vocab_filepath, file_format=file_format)\n",
    "    print('start spliting')\n",
    "    for i, (k, inds) in enumerate(docs):\n",
    "        if i % 50000 == 0:\n",
    "            print(i/50000)\n",
    "        words = vocab.decode(inds)\n",
    "        seg = [1]\n",
    "        seg_debug = ['|', words[0]]\n",
    "        kenlm_wrapper.init().next_score(words[0]) # first word\n",
    "        for word in words[1:]:\n",
    "            score = kenlm_wrapper.next_score(word)\n",
    "            if score >= thres:\n",
    "                seg.append(0)\n",
    "                seg_debug.append(word)\n",
    "            else:\n",
    "                seg.append(1)\n",
    "                kenlm_wrapper.init().next_score(word)\n",
    "                seg_debug.append('|')\n",
    "                seg_debug.append(word)\n",
    "        docs_seg.append((k, seg))\n",
    "        docs_seg_debug.append((k, seg_debug))\n",
    "    save_prep_file(out_filepath, docs_seg, file_format=file_format)\n",
    "    save_prep_file(out_filepath + '.debug', docs_seg_debug, file_format=file_format)"
   ]
  },
  {
   "cell_type": "code",
   "execution_count": 37,
   "metadata": {},
   "outputs": [],
   "source": [
    "%%capture output\n",
    "split_document('1b.binary', doc_filepath, vocab_filepath, file_format=file_format, \n",
    "               out_filepath='docs.seg', thres=-2.56)"
   ]
  },
  {
   "cell_type": "code",
   "execution_count": null,
   "metadata": {},
   "outputs": [],
   "source": []
  }
 ],
 "metadata": {
  "kernelspec": {
   "display_name": "rri",
   "language": "python",
   "name": "rri"
  },
  "language_info": {
   "codemirror_mode": {
    "name": "ipython",
    "version": 3
   },
   "file_extension": ".py",
   "mimetype": "text/x-python",
   "name": "python",
   "nbconvert_exporter": "python",
   "pygments_lexer": "ipython3",
   "version": "3.5.2"
  }
 },
 "nbformat": 4,
 "nbformat_minor": 2
}
