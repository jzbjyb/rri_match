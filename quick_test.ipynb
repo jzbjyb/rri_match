{
 "cells": [
  {
   "cell_type": "code",
   "execution_count": 21,
   "metadata": {},
   "outputs": [],
   "source": [
    "import json\n",
    "import numpy as np\n",
    "from metric import evaluate, ndcg, average_precision, precision\n",
    "from collections import defaultdict\n",
    "from itertools import groupby"
   ]
  },
  {
   "cell_type": "code",
   "execution_count": 7,
   "metadata": {},
   "outputs": [],
   "source": [
    "def load_judge_file(filepath, scale=int, file_format='ir', reverse=False):\n",
    "    qd_judge = defaultdict(lambda: defaultdict(lambda: None))\n",
    "    with open(filepath, 'r') as fp:\n",
    "        for l in fp:\n",
    "            if file_format == 'ir':\n",
    "                q, d, r = l.rstrip().split('\\t')\n",
    "            elif file_format == 'text':\n",
    "                r, q, d = l.rstrip().split(' ')\n",
    "            r = scale(r)\n",
    "            if reverse:\n",
    "                qd_judge[d][q] = r\n",
    "            else:\n",
    "                qd_judge[q][d] = r\n",
    "    return qd_judge"
   ]
  },
  {
   "cell_type": "code",
   "execution_count": 67,
   "metadata": {},
   "outputs": [],
   "source": [
    "def rank_judge(json_filename, judgement_filename, file_format='text', reverse=False):\n",
    "    rel_level = 2\n",
    "    def relevance_mapper(r):\n",
    "        if r < 0:\n",
    "          return 0\n",
    "        if r >= rel_level:\n",
    "          return rel_level - 1\n",
    "        return r\n",
    "    test_qd_judge = load_judge_file(judgement_filename, file_format=file_format, reverse=reverse)\n",
    "    for q in test_qd_judge:\n",
    "        for d in test_qd_judge[q]:\n",
    "          test_qd_judge[q][d] = relevance_mapper(test_qd_judge[q][d])\n",
    "    ranks = json.load(open(json_filename, 'r'))\n",
    "    def dedup(q, docs):\n",
    "        ndocs = []\n",
    "        docs_set = set()\n",
    "        for d in docs:\n",
    "            if d not in docs_set:\n",
    "                ndocs.append(d)\n",
    "                docs_set.add(d)\n",
    "        return ndocs\n",
    "    ranks = dict((q, dedup(q, ranks[q])) for q in ranks)\n",
    "    print('avg #docs per query: {}'.format(np.mean([len(ranks[q]) for q in ranks])))\n",
    "    for metric, top_k in [('precision', 1), ('precision', 5), ('precision', 10), \n",
    "                          ('average_precision', 1), ('average_precision', 5), ('average_precision', 10), ('average_precision', 1000)]:\n",
    "        scores = evaluate(ranks, test_qd_judge, metric=eval(metric), top_k=top_k)\n",
    "        avg_score = np.mean(list(scores.values()))\n",
    "        print('{} {}: {}'.format(metric, top_k, avg_score))"
   ]
  },
  {
   "cell_type": "code",
   "execution_count": 79,
   "metadata": {
    "scrolled": false
   },
   "outputs": [
    {
     "name": "stdout",
     "output_type": "stream",
     "text": [
      "matchpyramid\n",
      "avg #docs per query: 366.8448275862069\n",
      "precision 1: 0.0603448275862069\n",
      "precision 5: 0.034482758620689655\n",
      "precision 10: 0.02758620689655173\n",
      "average_precision 1: 0.0603448275862069\n",
      "average_precision 5: 0.08994252873563219\n",
      "average_precision 10: 0.09903530377668308\n",
      "average_precision 1000: 0.07631416566679959\n"
     ]
    }
   ],
   "source": [
    "print('matchpyramid')\n",
    "rank_judge('ranking/matchpyramid/ranking.30.json', 'data/apple_small/test.prep.pointwise', 'text', False)"
   ]
  },
  {
   "cell_type": "code",
   "execution_count": 80,
   "metadata": {
    "scrolled": false
   },
   "outputs": [
    {
     "name": "stdout",
     "output_type": "stream",
     "text": [
      "tfidf: use log(tf) || use normalization || use df\n",
      "avg #docs per query: 366.8448275862069\n",
      "precision 1: 0.6724137931034483\n",
      "precision 5: 0.2827586206896553\n",
      "precision 10: 0.1706896551724138\n",
      "average_precision 1: 0.6724137931034483\n",
      "average_precision 5: 0.7228687739463602\n",
      "average_precision 10: 0.7004436918445539\n",
      "average_precision 1000: 0.6665067706827957\n"
     ]
    }
   ],
   "source": [
    "print('tfidf: use log(tf) || use normalization || use df')\n",
    "rank_judge('../MatchZoo/experiment/apple_small/ranking/tfidf.json', 'data/apple_small/test.prep.pointwise', 'text', False)"
   ]
  },
  {
   "cell_type": "code",
   "execution_count": 83,
   "metadata": {},
   "outputs": [
    {
     "name": "stdout",
     "output_type": "stream",
     "text": [
      "tf: use log(tf) || use normalization\n",
      "avg #docs per query: 366.8448275862069\n",
      "precision 1: 0.5344827586206896\n",
      "precision 5: 0.24482758620689654\n",
      "precision 10: 0.14482758620689656\n",
      "average_precision 1: 0.5344827586206896\n",
      "average_precision 5: 0.5933908045977011\n",
      "average_precision 10: 0.5826855842911878\n",
      "average_precision 1000: 0.537250900144372\n"
     ]
    }
   ],
   "source": [
    "print('tf: use log(tf) || use normalization')\n",
    "rank_judge('../MatchZoo/experiment/apple_small/ranking/tf.json', 'data/apple_small/test.prep.pointwise', 'text', False)"
   ]
  },
  {
   "cell_type": "code",
   "execution_count": 84,
   "metadata": {},
   "outputs": [
    {
     "name": "stdout",
     "output_type": "stream",
     "text": [
      "tf_nonorm: use log(tf)\n",
      "avg #docs per query: 366.8448275862069\n",
      "precision 1: 0.14655172413793102\n",
      "precision 5: 0.06724137931034484\n",
      "precision 10: 0.05689655172413792\n",
      "average_precision 1: 0.14655172413793102\n",
      "average_precision 5: 0.18448275862068964\n",
      "average_precision 10: 0.2046165161466886\n",
      "average_precision 1000: 0.1755718233759357\n"
     ]
    }
   ],
   "source": [
    "print('tf_nonorm: use log(tf)')\n",
    "rank_judge('../MatchZoo/experiment/apple_small/ranking/tf_nonorm.json', 'data/apple_small/test.prep.pointwise', 'text', False)"
   ]
  },
  {
   "cell_type": "code",
   "execution_count": 85,
   "metadata": {},
   "outputs": [
    {
     "name": "stdout",
     "output_type": "stream",
     "text": [
      "tf: \n",
      "avg #docs per query: 366.8448275862069\n",
      "precision 1: 0.02586206896551724\n",
      "precision 5: 0.022413793103448276\n",
      "precision 10: 0.022413793103448276\n",
      "average_precision 1: 0.02586206896551724\n",
      "average_precision 5: 0.044540229885057465\n",
      "average_precision 10: 0.05430692391899289\n",
      "average_precision 1000: 0.05942179084335081\n"
     ]
    }
   ],
   "source": [
    "print('tf: ')\n",
    "rank_judge('../MatchZoo/experiment/apple_small/ranking/tf_nonorm_nosublinear.json', 'data/apple_small/test.prep.pointwise', 'text', False)"
   ]
  },
  {
   "cell_type": "code",
   "execution_count": 86,
   "metadata": {},
   "outputs": [
    {
     "name": "stdout",
     "output_type": "stream",
     "text": [
      "log tf: \n",
      "avg #docs per query: 366.8448275862069\n",
      "precision 1: 0.3103448275862069\n",
      "precision 5: 0.13103448275862067\n",
      "precision 10: 0.07672413793103447\n",
      "average_precision 1: 0.3103448275862069\n",
      "average_precision 5: 0.3463002873563219\n",
      "average_precision 10: 0.3433966201423098\n",
      "average_precision 1000: 0.29068433086339085\n"
     ]
    }
   ],
   "source": [
    "print('log tf: ')\n",
    "rank_judge('ranking/log_tf/ranking.1.json', 'data/apple_small/test.prep.pointwise', 'text', False)"
   ]
  },
  {
   "cell_type": "code",
   "execution_count": null,
   "metadata": {},
   "outputs": [],
   "source": []
  }
 ],
 "metadata": {
  "kernelspec": {
   "display_name": "Python 3",
   "language": "python",
   "name": "python3"
  },
  "language_info": {
   "codemirror_mode": {
    "name": "ipython",
    "version": 3
   },
   "file_extension": ".py",
   "mimetype": "text/x-python",
   "name": "python",
   "nbconvert_exporter": "python",
   "pygments_lexer": "ipython3",
   "version": "3.5.2"
  }
 },
 "nbformat": 4,
 "nbformat_minor": 2
}
