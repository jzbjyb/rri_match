{
 "cells": [
  {
   "cell_type": "code",
   "execution_count": 21,
   "metadata": {},
   "outputs": [],
   "source": [
    "import json\n",
    "import numpy as np\n",
    "from metric import evaluate, ndcg, average_precision, precision\n",
    "from collections import defaultdict\n",
    "from itertools import groupby"
   ]
  },
  {
   "cell_type": "code",
   "execution_count": 7,
   "metadata": {},
   "outputs": [],
   "source": [
    "def load_judge_file(filepath, scale=int, file_format='ir', reverse=False):\n",
    "    qd_judge = defaultdict(lambda: defaultdict(lambda: None))\n",
    "    with open(filepath, 'r') as fp:\n",
    "        for l in fp:\n",
    "            if file_format == 'ir':\n",
    "                q, d, r = l.rstrip().split('\\t')\n",
    "            elif file_format == 'text':\n",
    "                r, q, d = l.rstrip().split(' ')\n",
    "            r = scale(r)\n",
    "            if reverse:\n",
    "                qd_judge[d][q] = r\n",
    "            else:\n",
    "                qd_judge[q][d] = r\n",
    "    return qd_judge"
   ]
  },
  {
   "cell_type": "code",
   "execution_count": 54,
   "metadata": {},
   "outputs": [],
   "source": [
    "def rank_judge(json_filename, judgement_filename, file_format='text', reverse=False):\n",
    "    rel_level = 2\n",
    "    def relevance_mapper(r):\n",
    "        if r < 0:\n",
    "          return 0\n",
    "        if r >= rel_level:\n",
    "          return rel_level - 1\n",
    "        return r\n",
    "    test_qd_judge = load_judge_file(judgement_filename, file_format=file_format, reverse=reverse)\n",
    "    for q in test_qd_judge:\n",
    "        for d in test_qd_judge[q]:\n",
    "          test_qd_judge[q][d] = relevance_mapper(test_qd_judge[q][d])\n",
    "    ranks = json.load(open(json_filename, 'r'))\n",
    "    def dedup(q, docs):\n",
    "        ndocs = []\n",
    "        docs_set = set()\n",
    "        for d in docs:\n",
    "            if d not in docs_set:\n",
    "                ndocs.append(d)\n",
    "                docs_set.add(d)\n",
    "        return ndocs\n",
    "    ranks = dict((q, dedup(q, ranks[q]))for q in ranks)\n",
    "    print('avg #docs per query: {}'.format(np.mean([len(ranks[q]) for q in ranks])))\n",
    "    for metric, top_k in [('precision', 1), ('precision', 5), ('precision', 10), \n",
    "                          ('average_precision', 1), ('average_precision', 5), ('average_precision', 10), ('average_precision', 1000)]:\n",
    "        scores = evaluate(ranks, test_qd_judge, metric=eval(metric), top_k=top_k)\n",
    "        avg_score = np.mean(list(scores.values()))\n",
    "        print('{} {}: {}'.format(metric, top_k, avg_score))"
   ]
  },
  {
   "cell_type": "code",
   "execution_count": 55,
   "metadata": {},
   "outputs": [
    {
     "name": "stdout",
     "output_type": "stream",
     "text": [
      "avg #docs per query: 366.8448275862069\n",
      "precision 1: 0.0603448275862069\n",
      "precision 5: 0.034482758620689655\n",
      "precision 10: 0.02758620689655173\n",
      "average_precision 1: 0.0603448275862069\n",
      "average_precision 5: 0.08994252873563219\n",
      "average_precision 10: 0.09903530377668308\n",
      "average_precision 1000: 0.07631416566679959\n"
     ]
    }
   ],
   "source": [
    "rank_judge('ranking/exp1/ranking.30.json', 'data/apple_small/test.prep.pointwise', 'text', False)"
   ]
  },
  {
   "cell_type": "code",
   "execution_count": 56,
   "metadata": {},
   "outputs": [
    {
     "name": "stdout",
     "output_type": "stream",
     "text": [
      "avg #docs per query: 366.8448275862069\n",
      "precision 1: 0.0\n",
      "precision 5: 0.0\n",
      "precision 10: 0.0008620689655172415\n",
      "average_precision 1: 0.0\n",
      "average_precision 5: 0.0\n",
      "average_precision 10: 0.0014367816091954023\n",
      "average_precision 1000: 0.006736864853039645\n"
     ]
    }
   ],
   "source": [
    "rank_judge('../MatchZoo/experiment/apple_small/ranking/tfidf.json', 'data/apple_small/test.prep.pointwise', 'text', False)"
   ]
  },
  {
   "cell_type": "code",
   "execution_count": null,
   "metadata": {},
   "outputs": [],
   "source": []
  }
 ],
 "metadata": {
  "kernelspec": {
   "display_name": "Python 3",
   "language": "python",
   "name": "python3"
  },
  "language_info": {
   "codemirror_mode": {
    "name": "ipython",
    "version": 3
   },
   "file_extension": ".py",
   "mimetype": "text/x-python",
   "name": "python",
   "nbconvert_exporter": "python",
   "pygments_lexer": "ipython3",
   "version": "3.5.2"
  }
 },
 "nbformat": 4,
 "nbformat_minor": 2
}
