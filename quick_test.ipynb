{
 "cells": [
  {
   "cell_type": "code",
   "execution_count": 16,
   "metadata": {},
   "outputs": [],
   "source": [
    "import json, pickle\n",
    "import numpy as np\n",
    "from collections import defaultdict\n",
    "from itertools import groupby\n",
    "import matplotlib.pyplot as plt\n",
    "from metric import evaluate, ndcg, average_precision, precision\n",
    "from utils import WordVector, load_judge_file"
   ]
  },
  {
   "cell_type": "markdown",
   "metadata": {},
   "source": [
    "## ranking judgment"
   ]
  },
  {
   "cell_type": "code",
   "execution_count": 3,
   "metadata": {},
   "outputs": [],
   "source": [
    "def rank_judge(json_filename, judgement_filename, file_format='text', reverse=False):\n",
    "    rel_level = 2\n",
    "    def relevance_mapper(r):\n",
    "        if r < 0:\n",
    "          return 0\n",
    "        if r >= rel_level:\n",
    "          return rel_level - 1\n",
    "        return r\n",
    "    test_qd_judge = load_judge_file(judgement_filename, file_format=file_format, reverse=reverse)\n",
    "    for q in test_qd_judge:\n",
    "        for d in test_qd_judge[q]:\n",
    "          test_qd_judge[q][d] = relevance_mapper(test_qd_judge[q][d])\n",
    "    ranks = json.load(open(json_filename, 'r'))\n",
    "    def dedup(q, docs):\n",
    "        ndocs = []\n",
    "        docs_set = set()\n",
    "        for d in docs:\n",
    "            if d not in docs_set:\n",
    "                ndocs.append(d)\n",
    "                docs_set.add(d)\n",
    "        return ndocs\n",
    "    ranks = dict((q, dedup(q, ranks[q])) for q in ranks)\n",
    "    print('avg #docs per query: {}'.format(np.mean([len(ranks[q]) for q in ranks])))\n",
    "    for metric, top_k in [('precision', 1), ('precision', 5), ('precision', 10), \n",
    "                          ('average_precision', 1), ('average_precision', 5), ('average_precision', 10), ('average_precision', 1000)]:\n",
    "        scores = evaluate(ranks, test_qd_judge, metric=eval(metric), top_k=top_k)\n",
    "        avg_score = np.mean(list(scores.values()))\n",
    "        print('{} {}: {}'.format(metric, top_k, avg_score))"
   ]
  },
  {
   "cell_type": "code",
   "execution_count": 4,
   "metadata": {
    "scrolled": false
   },
   "outputs": [
    {
     "name": "stdout",
     "output_type": "stream",
     "text": [
      "matchpyramid\n",
      "avg #docs per query: 366.8448275862069\n",
      "precision 1: 0.0603448275862069\n",
      "precision 5: 0.034482758620689655\n",
      "precision 10: 0.027586206896551727\n",
      "average_precision 1: 0.0603448275862069\n",
      "average_precision 5: 0.08994252873563219\n",
      "average_precision 10: 0.0990353037766831\n",
      "average_precision 1000: 0.07631416566679959\n"
     ]
    }
   ],
   "source": [
    "print('matchpyramid')\n",
    "rank_judge('ranking/matchpyramid/ranking.30.json', 'data/apple_small/test.prep.pointwise', 'text', False)"
   ]
  },
  {
   "cell_type": "code",
   "execution_count": 5,
   "metadata": {
    "scrolled": false
   },
   "outputs": [
    {
     "name": "stdout",
     "output_type": "stream",
     "text": [
      "tfidf: use log(tf) || use normalization || use df\n",
      "avg #docs per query: 366.8448275862069\n",
      "precision 1: 0.6724137931034483\n",
      "precision 5: 0.2827586206896551\n",
      "precision 10: 0.17068965517241383\n",
      "average_precision 1: 0.6724137931034483\n",
      "average_precision 5: 0.7228687739463603\n",
      "average_precision 10: 0.7004436918445539\n",
      "average_precision 1000: 0.6665067706827957\n"
     ]
    }
   ],
   "source": [
    "print('tfidf: use log(tf) || use normalization || use df')\n",
    "rank_judge('../MatchZoo/experiment/apple_small/ranking/tfidf.json', 'data/apple_small/test.prep.pointwise', 'text', False)"
   ]
  },
  {
   "cell_type": "code",
   "execution_count": 6,
   "metadata": {},
   "outputs": [
    {
     "name": "stdout",
     "output_type": "stream",
     "text": [
      "tf: use log(tf) || use normalization\n",
      "avg #docs per query: 366.8448275862069\n",
      "precision 1: 0.5344827586206896\n",
      "precision 5: 0.24482758620689657\n",
      "precision 10: 0.1448275862068966\n",
      "average_precision 1: 0.5344827586206896\n",
      "average_precision 5: 0.5933908045977011\n",
      "average_precision 10: 0.5826855842911877\n",
      "average_precision 1000: 0.537250900144372\n"
     ]
    }
   ],
   "source": [
    "print('tf: use log(tf) || use normalization')\n",
    "rank_judge('../MatchZoo/experiment/apple_small/ranking/tf.json', 'data/apple_small/test.prep.pointwise', 'text', False)"
   ]
  },
  {
   "cell_type": "code",
   "execution_count": 7,
   "metadata": {},
   "outputs": [
    {
     "name": "stdout",
     "output_type": "stream",
     "text": [
      "tf_nonorm: use log(tf)\n",
      "avg #docs per query: 366.8448275862069\n",
      "precision 1: 0.14655172413793102\n",
      "precision 5: 0.06724137931034484\n",
      "precision 10: 0.05689655172413793\n",
      "average_precision 1: 0.14655172413793102\n",
      "average_precision 5: 0.18448275862068964\n",
      "average_precision 10: 0.20461651614668858\n",
      "average_precision 1000: 0.1755718233759357\n"
     ]
    }
   ],
   "source": [
    "print('tf_nonorm: use log(tf)')\n",
    "rank_judge('../MatchZoo/experiment/apple_small/ranking/tf_nonorm.json', 'data/apple_small/test.prep.pointwise', 'text', False)"
   ]
  },
  {
   "cell_type": "code",
   "execution_count": 8,
   "metadata": {},
   "outputs": [
    {
     "name": "stdout",
     "output_type": "stream",
     "text": [
      "tf: \n",
      "avg #docs per query: 366.8448275862069\n",
      "precision 1: 0.02586206896551724\n",
      "precision 5: 0.022413793103448276\n",
      "precision 10: 0.022413793103448276\n",
      "average_precision 1: 0.02586206896551724\n",
      "average_precision 5: 0.04454022988505747\n",
      "average_precision 10: 0.05430692391899289\n",
      "average_precision 1000: 0.05942179084335082\n"
     ]
    }
   ],
   "source": [
    "print('tf: ')\n",
    "rank_judge('../MatchZoo/experiment/apple_small/ranking/tf_nonorm_nosublinear.json', 'data/apple_small/test.prep.pointwise', 'text', False)"
   ]
  },
  {
   "cell_type": "code",
   "execution_count": 9,
   "metadata": {},
   "outputs": [
    {
     "name": "stdout",
     "output_type": "stream",
     "text": [
      "log tf: \n",
      "avg #docs per query: 366.8448275862069\n",
      "precision 1: 0.3103448275862069\n",
      "precision 5: 0.13103448275862067\n",
      "precision 10: 0.07672413793103448\n",
      "average_precision 1: 0.3103448275862069\n",
      "average_precision 5: 0.34630028735632185\n",
      "average_precision 10: 0.3433966201423098\n",
      "average_precision 1000: 0.29068433086339085\n"
     ]
    }
   ],
   "source": [
    "print('log tf: ')\n",
    "rank_judge('ranking/log_tf/ranking.1.json', 'data/apple_small/test.prep.pointwise', 'text', False)"
   ]
  },
  {
   "cell_type": "markdown",
   "metadata": {},
   "source": [
    "## embedding visualization"
   ]
  },
  {
   "cell_type": "code",
   "execution_count": 13,
   "metadata": {},
   "outputs": [],
   "source": [
    "def emb_vis(filepath):\n",
    "    wv = WordVector(filepath=filepath, first_line=True)\n",
    "    length = np.sqrt(np.sum(wv.vectors * wv.vectors, axis=1))\n",
    "    plt.hist(length, bins=100)\n",
    "    plt.show()"
   ]
  },
  {
   "cell_type": "code",
   "execution_count": 14,
   "metadata": {},
   "outputs": [
    {
     "name": "stdout",
     "output_type": "stream",
     "text": [
      "0.0\n"
     ]
    },
    {
     "data": {
      "image/png": "[encoded data removed]",
      "text/plain": [
       "<Figure size 432x288 with 1 Axes>"
      ]
     },
     "metadata": {
      "needs_background": "light"
     },
     "output_type": "display_data"
    }
   ],
   "source": [
    "emb_vis('data/bing/w2v_update_all_330_pad_tfrecord')"
   ]
  },
  {
   "cell_type": "code",
   "execution_count": 15,
   "metadata": {},
   "outputs": [
    {
     "name": "stdout",
     "output_type": "stream",
     "text": [
      "0.0\n"
     ]
    },
    {
     "data": {
      "image/png": "[encoded data removed]",
      "text/plain": [
       "<Figure size 432x288 with 1 Axes>"
      ]
     },
     "metadata": {
      "needs_background": "light"
     },
     "output_type": "display_data"
    }
   ],
   "source": [
    "emb_vis('data/bing/w2v')"
   ]
  },
  {
   "cell_type": "markdown",
   "metadata": {},
   "source": [
    "## density visualization"
   ]
  },
  {
   "cell_type": "code",
   "execution_count": 59,
   "metadata": {},
   "outputs": [],
   "source": [
    "def density_vis(filepath):\n",
    "    rel_density, nonrel_density = pickle.load(open(filepath, 'rb'))\n",
    "    bins = np.linspace(-0.1, 1.5, 100)\n",
    "    plt.hist(rel_density, bins, alpha=0.5, label='rel', density=True)\n",
    "    plt.hist(nonrel_density, bins, alpha=0.5, label='nonrel', density=True)\n",
    "    plt.legend(loc='upper right')\n",
    "    plt.show()"
   ]
  },
  {
   "cell_type": "code",
   "execution_count": 48,
   "metadata": {},
   "outputs": [
    {
     "data": {
      "image/png": "[encoded data removed]",
      "text/plain": [
       "<Figure size 432x288 with 1 Axes>"
      ]
     },
     "metadata": {
      "needs_background": "light"
     },
     "output_type": "display_data"
    }
   ],
   "source": [
    "density_vis('density_test.data')"
   ]
  },
  {
   "cell_type": "code",
   "execution_count": 49,
   "metadata": {},
   "outputs": [
    {
     "data": {
      "image/png": "[encoded data removed]",
      "text/plain": [
       "<Figure size 432x288 with 1 Axes>"
      ]
     },
     "metadata": {
      "needs_background": "light"
     },
     "output_type": "display_data"
    }
   ],
   "source": [
    "density_vis('density_test_05.data')"
   ]
  },
  {
   "cell_type": "code",
   "execution_count": 50,
   "metadata": {},
   "outputs": [
    {
     "data": {
      "image/png": "[encoded data removed]",
      "text/plain": [
       "<Figure size 432x288 with 1 Axes>"
      ]
     },
     "metadata": {
      "needs_background": "light"
     },
     "output_type": "display_data"
    }
   ],
   "source": [
    "density_vis('density_test_01.data')"
   ]
  },
  {
   "cell_type": "code",
   "execution_count": 51,
   "metadata": {},
   "outputs": [
    {
     "data": {
      "image/png": "[encoded data removed]",
      "text/plain": [
       "<Figure size 432x288 with 1 Axes>"
      ]
     },
     "metadata": {
      "needs_background": "light"
     },
     "output_type": "display_data"
    }
   ],
   "source": [
    "density_vis('density_test_relative_02.data')"
   ]
  },
  {
   "cell_type": "code",
   "execution_count": 63,
   "metadata": {},
   "outputs": [
    {
     "data": {
      "image/png": "[encoded data removed]",
      "text/plain": [
       "<Figure size 432x288 with 1 Axes>"
      ]
     },
     "metadata": {
      "needs_background": "light"
     },
     "output_type": "display_data"
    }
   ],
   "source": [
    "density_vis('density_test_percentile_02.data')"
   ]
  },
  {
   "cell_type": "code",
   "execution_count": 67,
   "metadata": {},
   "outputs": [
    {
     "data": {
      "image/png": "[encoded data removed]",
      "text/plain": [
       "<Figure size 432x288 with 1 Axes>"
      ]
     },
     "metadata": {
      "needs_background": "light"
     },
     "output_type": "display_data"
    }
   ],
   "source": [
    "density_vis('density_test_tfpercentile_02.data')"
   ]
  },
  {
   "cell_type": "code",
   "execution_count": 52,
   "metadata": {},
   "outputs": [
    {
     "data": {
      "image/png": "[encoded data removed]",
      "text/plain": [
       "<Figure size 432x288 with 1 Axes>"
      ]
     },
     "metadata": {
      "needs_background": "light"
     },
     "output_type": "display_data"
    }
   ],
   "source": [
    "density_vis('density_test_relative_05.data')"
   ]
  },
  {
   "cell_type": "code",
   "execution_count": 64,
   "metadata": {},
   "outputs": [
    {
     "data": {
      "image/png": "[encoded data removed]",
      "text/plain": [
       "<Figure size 432x288 with 1 Axes>"
      ]
     },
     "metadata": {
      "needs_background": "light"
     },
     "output_type": "display_data"
    }
   ],
   "source": [
    "density_vis('density_test_relative_mean_05.data')"
   ]
  },
  {
   "cell_type": "code",
   "execution_count": 54,
   "metadata": {},
   "outputs": [
    {
     "data": {
      "image/png": "[encoded data removed]",
      "text/plain": [
       "<Figure size 432x288 with 1 Axes>"
      ]
     },
     "metadata": {
      "needs_background": "light"
     },
     "output_type": "display_data"
    }
   ],
   "source": [
    "density_vis('density_test_relative_07.data')"
   ]
  },
  {
   "cell_type": "code",
   "execution_count": 65,
   "metadata": {},
   "outputs": [
    {
     "data": {
      "image/png": "[encoded data removed]",
      "text/plain": [
       "<Figure size 432x288 with 1 Axes>"
      ]
     },
     "metadata": {
      "needs_background": "light"
     },
     "output_type": "display_data"
    }
   ],
   "source": [
    "density_vis('density_test_relative_mean_07.data')"
   ]
  },
  {
   "cell_type": "code",
   "execution_count": null,
   "metadata": {},
   "outputs": [],
   "source": []
  }
 ],
 "metadata": {
  "kernelspec": {
   "display_name": "rri",
   "language": "python",
   "name": "rri"
  },
  "language_info": {
   "codemirror_mode": {
    "name": "ipython",
    "version": 3
   },
   "file_extension": ".py",
   "mimetype": "text/x-python",
   "name": "python",
   "nbconvert_exporter": "python",
   "pygments_lexer": "ipython3",
   "version": "3.5.2"
  }
 },
 "nbformat": 4,
 "nbformat_minor": 2
}
